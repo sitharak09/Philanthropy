{
 "cells": [
  {
   "cell_type": "code",
   "execution_count": 1,
   "metadata": {},
   "outputs": [],
   "source": [
    "import pandas as pd\n",
    "GIFT_AMOUNT = pd.read_excel(r'C:\\Users\\sithara\\Desktop\\Philanthrophy\\File\\Management_final_1.xlsx')\n",
    "df = pd.DataFrame(GIFT_AMOUNT,columns=['GIFT_AMOUNT_2018_NEW','GIFT_AMOUNT_2017_NEW','GIFT_AMOUNT_2016_NEW','GIFT_AMOUNT_2015_NEW','LIFETIME_RECOGNITION_AMT_NEW','ZIPCODE_NEW'])"
   ]
  },
  {
   "cell_type": "code",
   "execution_count": 2,
   "metadata": {},
   "outputs": [
    {
     "name": "stdout",
     "output_type": "stream",
     "text": [
      "   GIFT_AMOUNT_2018_NEW  GIFT_AMOUNT_2017_NEW  GIFT_AMOUNT_2016_NEW  \\\n",
      "0                   0.0                 300.0                   0.0   \n",
      "1                  25.0                   0.0                   0.0   \n",
      "2                   0.0                   0.0                   0.0   \n",
      "3                   0.0                   0.0                   0.0   \n",
      "4                   0.0                   0.0                   0.0   \n",
      "\n",
      "   GIFT_AMOUNT_2015_NEW  LIFETIME_RECOGNITION_AMT_NEW  ZIPCODE_NEW_10031  \\\n",
      "0                 100.0                       2470.00                  1   \n",
      "1                   0.0                        522.00                  0   \n",
      "2                   0.0                         19.92                  0   \n",
      "3                   0.0                        155.00                  1   \n",
      "4                   0.0                         30.00                  0   \n",
      "\n",
      "   ZIPCODE_NEW_10105  ZIPCODE_NEW_11111  ZIPCODE_NEW_12009  \n",
      "0                  0                  0                  0  \n",
      "1                  0                  1                  0  \n",
      "2                  0                  1                  0  \n",
      "3                  0                  0                  0  \n",
      "4                  0                  1                  0  \n"
     ]
    }
   ],
   "source": [
    "#create dummy for category variables\n",
    "ga = df.copy()\n",
    "ga = pd.get_dummies (ga,columns=['ZIPCODE_NEW'])\n",
    "print(ga.head())"
   ]
  },
  {
   "cell_type": "code",
   "execution_count": 3,
   "metadata": {},
   "outputs": [],
   "source": [
    "predictor_cols = list(ga.columns.values[1:])\n",
    "x = ga[predictor_cols]\n",
    "y = ga[['GIFT_AMOUNT_2018_NEW']]"
   ]
  },
  {
   "cell_type": "code",
   "execution_count": 6,
   "metadata": {},
   "outputs": [
    {
     "name": "stdout",
     "output_type": "stream",
     "text": [
      "[ 0 25  0 ...  0  0  0]\n"
     ]
    }
   ],
   "source": [
    "import numpy as np\n",
    "Y = np.ravel(y)\n",
    "Y=Y.astype('int')\n",
    "print(np.ravel(Y))"
   ]
  },
  {
   "cell_type": "code",
   "execution_count": 41,
   "metadata": {},
   "outputs": [],
   "source": [
    "from sklearn.metrics import r2_score"
   ]
  },
  {
   "cell_type": "code",
   "execution_count": 22,
   "metadata": {},
   "outputs": [
    {
     "name": "stdout",
     "output_type": "stream",
     "text": [
      "0.12338773191765007\n",
      "0.12338773191695729 0.1231834469641575\n"
     ]
    }
   ],
   "source": [
    "# compute with formulas from the theory\n",
    "from sklearn.linear_model import LinearRegression\n",
    "model = LinearRegression()\n",
    "model.fit(x, Y)\n",
    "print(model.score(x, Y))\n",
    "yhat = model.predict(x)\n",
    "SS_Residual = sum((Y-yhat)**2)\n",
    "SS_Total = sum((Y-np.mean(Y))**2)\n",
    "r_squared = 1 - (float(SS_Residual))/SS_Total\n",
    "adjusted_r_squared = 1 - (1-r_squared)*(len(Y)-1)/(len(Y)-x.shape[1]-1)\n",
    "print (r_squared, adjusted_r_squared)"
   ]
  },
  {
   "cell_type": "code",
   "execution_count": 32,
   "metadata": {},
   "outputs": [
    {
     "name": "stdout",
     "output_type": "stream",
     "text": [
      "0.5739246661109094\n",
      "0.5739246661107819 0.573825373889304\n"
     ]
    }
   ],
   "source": [
    "from sklearn.tree import DecisionTreeRegressor\n",
    "model = DecisionTreeRegressor(min_samples_split=4, max_leaf_nodes=20)\n",
    "model.fit(x, Y)\n",
    "print(model.score(x, Y))\n",
    "# compute with formulas from the theory\n",
    "yhat = model.predict(x)\n",
    "SS_Residual = sum((Y-yhat)**2)\n",
    "SS_Total = sum((Y-np.mean(Y))**2)\n",
    "r_squared = 1 - (float(SS_Residual))/SS_Total\n",
    "adjusted_r_squared = 1 - (1-r_squared)*(len(Y)-1)/(len(Y)-x.shape[1]-1)\n",
    "print (r_squared, adjusted_r_squared)"
   ]
  },
  {
   "cell_type": "code",
   "execution_count": 31,
   "metadata": {},
   "outputs": [
    {
     "name": "stdout",
     "output_type": "stream",
     "text": [
      "0.011939879480398652\n",
      "0.011939879479100468 0.011709622816681975\n"
     ]
    }
   ],
   "source": [
    "from sklearn.neural_network import MLPRegressor\n",
    "model = MLPRegressor(hidden_layer_sizes=(10,),  activation='logistic', solver='adam',    alpha=0.001,batch_size='auto',\n",
    "               learning_rate='invscaling', learning_rate_init=0.01, power_t=0.5, max_iter=1000, shuffle=True,\n",
    "               random_state=None, tol=0.0001, verbose=False, warm_start=False, momentum=0.9,\n",
    "               nesterovs_momentum=True, early_stopping=False, validation_fraction=0.1, beta_1=0.9, beta_2=0.999,\n",
    "               epsilon=1e-08)\n",
    "model.fit(x, Y)\n",
    "print(model.score(x, Y))\n",
    "# compute with formulas from the theory\n",
    "yhat = model.predict(x)\n",
    "SS_Residual = sum((Y-yhat)**2)\n",
    "SS_Total = sum((Y-np.mean(Y))**2)\n",
    "r_squared = 1 - (float(SS_Residual))/SS_Total\n",
    "adjusted_r_squared = 1 - (1-r_squared)*(len(Y)-1)/(len(Y)-x.shape[1]-1)\n",
    "print (r_squared, adjusted_r_squared)"
   ]
  },
  {
   "cell_type": "code",
   "execution_count": null,
   "metadata": {},
   "outputs": [],
   "source": []
  }
 ],
 "metadata": {
  "kernelspec": {
   "display_name": "Python 3",
   "language": "python",
   "name": "python3"
  },
  "language_info": {
   "codemirror_mode": {
    "name": "ipython",
    "version": 3
   },
   "file_extension": ".py",
   "mimetype": "text/x-python",
   "name": "python",
   "nbconvert_exporter": "python",
   "pygments_lexer": "ipython3",
   "version": "3.7.1"
  }
 },
 "nbformat": 4,
 "nbformat_minor": 2
}
