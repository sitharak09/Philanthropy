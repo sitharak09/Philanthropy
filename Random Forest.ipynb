{
 "cells": [
  {
   "cell_type": "code",
   "execution_count": 1,
   "metadata": {},
   "outputs": [],
   "source": [
    "import numpy as np\n",
    "import pandas as pd\n",
    "import matplotlib.pyplot as plt\n",
    "import seaborn as sns\n",
    "import warnings\n",
    "warnings.filterwarnings('ignore')\n",
    "np.random.seed(1337)"
   ]
  },
  {
   "cell_type": "code",
   "execution_count": 2,
   "metadata": {},
   "outputs": [],
   "source": [
    "data = pd.read_excel('F:/DS/UBPhilanthropy/Management_final_1.xlsx')"
   ]
  },
  {
   "cell_type": "code",
   "execution_count": 3,
   "metadata": {},
   "outputs": [
    {
     "data": {
      "text/html": [
       "<div>\n",
       "<style scoped>\n",
       "    .dataframe tbody tr th:only-of-type {\n",
       "        vertical-align: middle;\n",
       "    }\n",
       "\n",
       "    .dataframe tbody tr th {\n",
       "        vertical-align: top;\n",
       "    }\n",
       "\n",
       "    .dataframe thead th {\n",
       "        text-align: right;\n",
       "    }\n",
       "</style>\n",
       "<table border=\"1\" class=\"dataframe\">\n",
       "  <thead>\n",
       "    <tr style=\"text-align: right;\">\n",
       "      <th></th>\n",
       "      <th>ID_NUMBER</th>\n",
       "      <th>FACULTY_STAFF_IND</th>\n",
       "      <th>MARITAL_STATUS</th>\n",
       "      <th>GENDER</th>\n",
       "      <th>AGE_BRACKET</th>\n",
       "      <th>STATE_CODE</th>\n",
       "      <th>ZIPCODE_NEW</th>\n",
       "      <th>ZIPCODE</th>\n",
       "      <th>STUDENT_ACTIVITY_PARTICIPANT</th>\n",
       "      <th>DEGREE_CODE1</th>\n",
       "      <th>...</th>\n",
       "      <th>NO_EVENTS_2017_NEW</th>\n",
       "      <th>NO_EVENTS_2016_NEW</th>\n",
       "      <th>NO_EVENTS_2015_NEW</th>\n",
       "      <th>NO_EVENTS_2014_NEW</th>\n",
       "      <th>NO_EVENTS_2013_NEW</th>\n",
       "      <th>NO_EVENTS_2012_NEW</th>\n",
       "      <th>NO_EVENTS_2011_NEW</th>\n",
       "      <th>NO_EVENTS_2010_NEW</th>\n",
       "      <th>NO_EVENTS_2009_NEW</th>\n",
       "      <th>NO_EVENTS_2008_NEW</th>\n",
       "    </tr>\n",
       "  </thead>\n",
       "  <tbody>\n",
       "    <tr>\n",
       "      <th>0</th>\n",
       "      <td>109248</td>\n",
       "      <td>N</td>\n",
       "      <td>S</td>\n",
       "      <td>M</td>\n",
       "      <td>90</td>\n",
       "      <td>NY</td>\n",
       "      <td>10031</td>\n",
       "      <td>10031</td>\n",
       "      <td>N</td>\n",
       "      <td>BS</td>\n",
       "      <td>...</td>\n",
       "      <td>0</td>\n",
       "      <td>0</td>\n",
       "      <td>0</td>\n",
       "      <td>0</td>\n",
       "      <td>0</td>\n",
       "      <td>0</td>\n",
       "      <td>0</td>\n",
       "      <td>0</td>\n",
       "      <td>0</td>\n",
       "      <td>1</td>\n",
       "    </tr>\n",
       "    <tr>\n",
       "      <th>1</th>\n",
       "      <td>52671</td>\n",
       "      <td>N</td>\n",
       "      <td>S</td>\n",
       "      <td>M</td>\n",
       "      <td>60</td>\n",
       "      <td>NY</td>\n",
       "      <td>11111</td>\n",
       "      <td>13027</td>\n",
       "      <td>N</td>\n",
       "      <td>BS</td>\n",
       "      <td>...</td>\n",
       "      <td>0</td>\n",
       "      <td>0</td>\n",
       "      <td>0</td>\n",
       "      <td>0</td>\n",
       "      <td>0</td>\n",
       "      <td>0</td>\n",
       "      <td>0</td>\n",
       "      <td>0</td>\n",
       "      <td>0</td>\n",
       "      <td>0</td>\n",
       "    </tr>\n",
       "    <tr>\n",
       "      <th>2</th>\n",
       "      <td>159329</td>\n",
       "      <td>N</td>\n",
       "      <td>M</td>\n",
       "      <td>M</td>\n",
       "      <td>45</td>\n",
       "      <td>NY</td>\n",
       "      <td>11111</td>\n",
       "      <td>14043</td>\n",
       "      <td>N</td>\n",
       "      <td>BS</td>\n",
       "      <td>...</td>\n",
       "      <td>0</td>\n",
       "      <td>0</td>\n",
       "      <td>0</td>\n",
       "      <td>0</td>\n",
       "      <td>0</td>\n",
       "      <td>0</td>\n",
       "      <td>0</td>\n",
       "      <td>0</td>\n",
       "      <td>0</td>\n",
       "      <td>0</td>\n",
       "    </tr>\n",
       "    <tr>\n",
       "      <th>3</th>\n",
       "      <td>52861</td>\n",
       "      <td>N</td>\n",
       "      <td></td>\n",
       "      <td>M</td>\n",
       "      <td>55</td>\n",
       "      <td>NY</td>\n",
       "      <td>10031</td>\n",
       "      <td>10031</td>\n",
       "      <td>N</td>\n",
       "      <td>BS</td>\n",
       "      <td>...</td>\n",
       "      <td>0</td>\n",
       "      <td>0</td>\n",
       "      <td>0</td>\n",
       "      <td>0</td>\n",
       "      <td>0</td>\n",
       "      <td>0</td>\n",
       "      <td>0</td>\n",
       "      <td>0</td>\n",
       "      <td>0</td>\n",
       "      <td>0</td>\n",
       "    </tr>\n",
       "    <tr>\n",
       "      <th>4</th>\n",
       "      <td>37191</td>\n",
       "      <td>N</td>\n",
       "      <td>M</td>\n",
       "      <td>M</td>\n",
       "      <td>80</td>\n",
       "      <td>NaN</td>\n",
       "      <td>11111</td>\n",
       "      <td>NaN</td>\n",
       "      <td>N</td>\n",
       "      <td>BS</td>\n",
       "      <td>...</td>\n",
       "      <td>0</td>\n",
       "      <td>0</td>\n",
       "      <td>0</td>\n",
       "      <td>0</td>\n",
       "      <td>0</td>\n",
       "      <td>0</td>\n",
       "      <td>0</td>\n",
       "      <td>0</td>\n",
       "      <td>0</td>\n",
       "      <td>0</td>\n",
       "    </tr>\n",
       "  </tbody>\n",
       "</table>\n",
       "<p>5 rows × 54 columns</p>\n",
       "</div>"
      ],
      "text/plain": [
       "   ID_NUMBER FACULTY_STAFF_IND MARITAL_STATUS GENDER  AGE_BRACKET STATE_CODE  \\\n",
       "0     109248                 N              S      M           90         NY   \n",
       "1      52671                 N              S      M           60         NY   \n",
       "2     159329                 N              M      M           45         NY   \n",
       "3      52861                 N                     M           55         NY   \n",
       "4      37191                 N              M      M           80        NaN   \n",
       "\n",
       "   ZIPCODE_NEW ZIPCODE STUDENT_ACTIVITY_PARTICIPANT DEGREE_CODE1  ...  \\\n",
       "0        10031   10031                            N           BS  ...   \n",
       "1        11111   13027                            N           BS  ...   \n",
       "2        11111   14043                            N           BS  ...   \n",
       "3        10031   10031                            N           BS  ...   \n",
       "4        11111     NaN                            N           BS  ...   \n",
       "\n",
       "   NO_EVENTS_2017_NEW NO_EVENTS_2016_NEW NO_EVENTS_2015_NEW  \\\n",
       "0                   0                  0                  0   \n",
       "1                   0                  0                  0   \n",
       "2                   0                  0                  0   \n",
       "3                   0                  0                  0   \n",
       "4                   0                  0                  0   \n",
       "\n",
       "  NO_EVENTS_2014_NEW NO_EVENTS_2013_NEW NO_EVENTS_2012_NEW NO_EVENTS_2011_NEW  \\\n",
       "0                  0                  0                  0                  0   \n",
       "1                  0                  0                  0                  0   \n",
       "2                  0                  0                  0                  0   \n",
       "3                  0                  0                  0                  0   \n",
       "4                  0                  0                  0                  0   \n",
       "\n",
       "  NO_EVENTS_2010_NEW NO_EVENTS_2009_NEW NO_EVENTS_2008_NEW  \n",
       "0                  0                  0                  1  \n",
       "1                  0                  0                  0  \n",
       "2                  0                  0                  0  \n",
       "3                  0                  0                  0  \n",
       "4                  0                  0                  0  \n",
       "\n",
       "[5 rows x 54 columns]"
      ]
     },
     "execution_count": 3,
     "metadata": {},
     "output_type": "execute_result"
    }
   ],
   "source": [
    "data.head()"
   ]
  },
  {
   "cell_type": "code",
   "execution_count": 4,
   "metadata": {},
   "outputs": [
    {
     "data": {
      "text/plain": [
       "(34338, 54)"
      ]
     },
     "execution_count": 4,
     "metadata": {},
     "output_type": "execute_result"
    }
   ],
   "source": [
    "data.shape"
   ]
  },
  {
   "cell_type": "code",
   "execution_count": 5,
   "metadata": {},
   "outputs": [
    {
     "data": {
      "text/plain": [
       "ID_NUMBER                           0\n",
       "FACULTY_STAFF_IND                   0\n",
       "MARITAL_STATUS                      0\n",
       "GENDER                              0\n",
       "AGE_BRACKET                         0\n",
       "STATE_CODE                        291\n",
       "ZIPCODE_NEW                         0\n",
       "ZIPCODE                           292\n",
       "STUDENT_ACTIVITY_PARTICIPANT        0\n",
       "DEGREE_CODE1                        0\n",
       "DEGREE_YEAR1                        0\n",
       "SCHOOL1                             0\n",
       "DEGREE_CODE2                        0\n",
       "DEGREE_YEAR2                        0\n",
       "SCHOOL2                         28807\n",
       "DEGREE_CODE3                        0\n",
       "DEGREE_YEAR3                        0\n",
       "SCHOOL3                         33772\n",
       "DEGREE_CODE4                        0\n",
       "DEGREE_YEAR4                        0\n",
       "SCHOOL4                         34300\n",
       "DONOR_CATEGORY                      0\n",
       "LIFETIME_RECOGNITION_AMT_NEW        0\n",
       "LIFETIME_RECOGNITION_AMT        23303\n",
       "NO_YRS_GIVING                   23083\n",
       "GIFT_AMOUNT_2018_NEW                0\n",
       "GIFT_AMOUNT_2017_NEW                0\n",
       "GIFT_AMOUNT_2016_NEW                0\n",
       "GIFT_AMOUNT_2015_NEW                0\n",
       "GIFT_AMOUNT_2014_NEW                0\n",
       "GIFT_AMOUNT_2013_NEW                0\n",
       "GIFT_AMOUNT_2012_NEW                0\n",
       "GIFT_AMOUNT_2011_NEW                0\n",
       "GIFT_AMOUNT_2010_NEW                0\n",
       "GIFT_AMOUNT_2009_NEW                0\n",
       "GIFT_AMOUNT_2008_NEW                0\n",
       "LAST_GIFT_DATE                  23303\n",
       "FIRST_GIFT_DATE                 23083\n",
       "FIRST_GIFT_AMOUNT               23083\n",
       "GIVING_SCHOOL_UNIT1             23303\n",
       "GIVING_SCHOOL_UNIT2             29107\n",
       "GIVING_SCHOOL_UNIT3             32579\n",
       "ENGAGEMENT_SCORE                    0\n",
       "NO_EVENTS_2018_NEW                  0\n",
       "NO_EVENTS_2017_NEW                  0\n",
       "NO_EVENTS_2016_NEW                  0\n",
       "NO_EVENTS_2015_NEW                  0\n",
       "NO_EVENTS_2014_NEW                  0\n",
       "NO_EVENTS_2013_NEW                  0\n",
       "NO_EVENTS_2012_NEW                  0\n",
       "NO_EVENTS_2011_NEW                  0\n",
       "NO_EVENTS_2010_NEW                  0\n",
       "NO_EVENTS_2009_NEW                  0\n",
       "NO_EVENTS_2008_NEW                  0\n",
       "dtype: int64"
      ]
     },
     "execution_count": 5,
     "metadata": {},
     "output_type": "execute_result"
    }
   ],
   "source": [
    "data.isnull().sum()"
   ]
  },
  {
   "cell_type": "code",
   "execution_count": 6,
   "metadata": {},
   "outputs": [],
   "source": [
    "threshold = 5\n",
    "cols = data.columns.tolist()\n",
    "drop_cols = []\n",
    "for col in cols:\n",
    "    if data[col].isnull().sum() > len(data)*threshold/100:\n",
    "        drop_cols.append(col)\n",
    "        \n",
    "data.drop(columns=drop_cols, inplace=True)"
   ]
  },
  {
   "cell_type": "code",
   "execution_count": 7,
   "metadata": {},
   "outputs": [
    {
     "data": {
      "text/plain": [
       "(34338, 43)"
      ]
     },
     "execution_count": 7,
     "metadata": {},
     "output_type": "execute_result"
    }
   ],
   "source": [
    "data.shape"
   ]
  },
  {
   "cell_type": "code",
   "execution_count": 8,
   "metadata": {
    "scrolled": true
   },
   "outputs": [
    {
     "name": "stdout",
     "output_type": "stream",
     "text": [
      "Total numerical valued columns:  28 \n",
      "\n",
      "ID_NUMBER 0\n",
      "AGE_BRACKET 0\n",
      "ZIPCODE_NEW 0\n",
      "DEGREE_YEAR1 0\n",
      "LIFETIME_RECOGNITION_AMT_NEW 0\n",
      "GIFT_AMOUNT_2018_NEW 0\n",
      "GIFT_AMOUNT_2017_NEW 0\n",
      "GIFT_AMOUNT_2016_NEW 0\n",
      "GIFT_AMOUNT_2015_NEW 0\n",
      "GIFT_AMOUNT_2014_NEW 0\n",
      "GIFT_AMOUNT_2013_NEW 0\n",
      "GIFT_AMOUNT_2012_NEW 0\n",
      "GIFT_AMOUNT_2011_NEW 0\n",
      "GIFT_AMOUNT_2010_NEW 0\n",
      "GIFT_AMOUNT_2009_NEW 0\n",
      "GIFT_AMOUNT_2008_NEW 0\n",
      "ENGAGEMENT_SCORE 0\n",
      "NO_EVENTS_2018_NEW 0\n",
      "NO_EVENTS_2017_NEW 0\n",
      "NO_EVENTS_2016_NEW 0\n",
      "NO_EVENTS_2015_NEW 0\n",
      "NO_EVENTS_2014_NEW 0\n",
      "NO_EVENTS_2013_NEW 0\n",
      "NO_EVENTS_2012_NEW 0\n",
      "NO_EVENTS_2011_NEW 0\n",
      "NO_EVENTS_2010_NEW 0\n",
      "NO_EVENTS_2009_NEW 0\n",
      "NO_EVENTS_2008_NEW 0\n"
     ]
    }
   ],
   "source": [
    "print('Total numerical valued columns: ', len(data.select_dtypes(include=np.number).columns), '\\n')\n",
    "for col in data.select_dtypes(include=np.number).columns:\n",
    "    print(col, data[col].isnull().sum())"
   ]
  },
  {
   "cell_type": "code",
   "execution_count": 9,
   "metadata": {
    "scrolled": true
   },
   "outputs": [
    {
     "name": "stdout",
     "output_type": "stream",
     "text": [
      "Total categorical valued columns:  15 \n",
      "\n",
      "FACULTY_STAFF_IND 0\n",
      "MARITAL_STATUS 0\n",
      "GENDER 0\n",
      "STATE_CODE 291\n",
      "ZIPCODE 292\n",
      "STUDENT_ACTIVITY_PARTICIPANT 0\n",
      "DEGREE_CODE1 0\n",
      "SCHOOL1 0\n",
      "DEGREE_CODE2 0\n",
      "DEGREE_YEAR2 0\n",
      "DEGREE_CODE3 0\n",
      "DEGREE_YEAR3 0\n",
      "DEGREE_CODE4 0\n",
      "DEGREE_YEAR4 0\n",
      "DONOR_CATEGORY 0\n"
     ]
    }
   ],
   "source": [
    "print('Total categorical valued columns: ', len(data.select_dtypes(include=np.object).columns), '\\n')\n",
    "for col in data.select_dtypes(include=np.object).columns:\n",
    "    print(col, data[col].isnull().sum())"
   ]
  },
  {
   "cell_type": "code",
   "execution_count": 10,
   "metadata": {},
   "outputs": [],
   "source": [
    "data['DEGREE_YEAR1'] = data['DEGREE_YEAR1'].astype('object')\n",
    "data['AGE_BRACKET'] = data['AGE_BRACKET'].astype('object')"
   ]
  },
  {
   "cell_type": "code",
   "execution_count": 11,
   "metadata": {},
   "outputs": [],
   "source": [
    "# #Taking the top 9 correlated features from above and dropping the rest of the features\n",
    "# # drop_cols = data.corr()['GIFT_AMOUNT_2018_NEW'].sort_values(ascending=False).tail(17).index.tolist()\n",
    "\n",
    "# #Retaining ID number for now and dropping it after splitting into train and test sets.\n",
    "# drop_cols.remove('ID_NUMBER')\n",
    "# data.drop(columns=drop_cols, inplace=True)"
   ]
  },
  {
   "cell_type": "code",
   "execution_count": 12,
   "metadata": {},
   "outputs": [
    {
     "data": {
      "text/plain": [
       "(34338, 43)"
      ]
     },
     "execution_count": 12,
     "metadata": {},
     "output_type": "execute_result"
    }
   ],
   "source": [
    "data.shape"
   ]
  },
  {
   "cell_type": "code",
   "execution_count": 13,
   "metadata": {},
   "outputs": [],
   "source": [
    "cat_cols = data.select_dtypes(include=np.object).columns.tolist()\n",
    "\n",
    "num_cols = data.select_dtypes(include=np.number).columns.tolist()"
   ]
  },
  {
   "cell_type": "code",
   "execution_count": 14,
   "metadata": {},
   "outputs": [
    {
     "name": "stderr",
     "output_type": "stream",
     "text": [
      "Using TensorFlow backend.\n"
     ]
    }
   ],
   "source": [
    "from sklearn.model_selection import train_test_split, GridSearchCV\n",
    "from sklearn.preprocessing import StandardScaler\n",
    "from sklearn.feature_selection import RFE\n",
    "from sklearn.base import BaseEstimator, RegressorMixin, TransformerMixin, clone\n",
    "from sklearn.metrics import mean_absolute_error, mean_squared_error, r2_score\n",
    "from sklearn.linear_model import LinearRegression, Lasso\n",
    "from sklearn.ensemble import RandomForestRegressor, GradientBoostingRegressor\n",
    "from sklearn.neural_network import MLPRegressor\n",
    "from keras.models import Sequential\n",
    "from keras.layers import Dense, Dropout\n",
    "from keras.callbacks import Callback, EarlyStopping\n",
    "from keras.optimizers import RMSprop, Adadelta, Adagrad"
   ]
  },
  {
   "cell_type": "code",
   "execution_count": 15,
   "metadata": {},
   "outputs": [
    {
     "data": {
      "text/plain": [
       "Index(['ID_NUMBER', 'FACULTY_STAFF_IND', 'MARITAL_STATUS', 'GENDER',\n",
       "       'AGE_BRACKET', 'STATE_CODE', 'ZIPCODE_NEW', 'ZIPCODE',\n",
       "       'STUDENT_ACTIVITY_PARTICIPANT', 'DEGREE_CODE1', 'DEGREE_YEAR1',\n",
       "       'SCHOOL1', 'DEGREE_CODE2', 'DEGREE_YEAR2', 'DEGREE_CODE3',\n",
       "       'DEGREE_YEAR3', 'DEGREE_CODE4', 'DEGREE_YEAR4', 'DONOR_CATEGORY',\n",
       "       'LIFETIME_RECOGNITION_AMT_NEW', 'GIFT_AMOUNT_2018_NEW',\n",
       "       'GIFT_AMOUNT_2017_NEW', 'GIFT_AMOUNT_2016_NEW', 'GIFT_AMOUNT_2015_NEW',\n",
       "       'GIFT_AMOUNT_2014_NEW', 'GIFT_AMOUNT_2013_NEW', 'GIFT_AMOUNT_2012_NEW',\n",
       "       'GIFT_AMOUNT_2011_NEW', 'GIFT_AMOUNT_2010_NEW', 'GIFT_AMOUNT_2009_NEW',\n",
       "       'GIFT_AMOUNT_2008_NEW', 'ENGAGEMENT_SCORE', 'NO_EVENTS_2018_NEW',\n",
       "       'NO_EVENTS_2017_NEW', 'NO_EVENTS_2016_NEW', 'NO_EVENTS_2015_NEW',\n",
       "       'NO_EVENTS_2014_NEW', 'NO_EVENTS_2013_NEW', 'NO_EVENTS_2012_NEW',\n",
       "       'NO_EVENTS_2011_NEW', 'NO_EVENTS_2010_NEW', 'NO_EVENTS_2009_NEW',\n",
       "       'NO_EVENTS_2008_NEW'],\n",
       "      dtype='object')"
      ]
     },
     "execution_count": 15,
     "metadata": {},
     "output_type": "execute_result"
    }
   ],
   "source": [
    "data.columns"
   ]
  },
  {
   "cell_type": "code",
   "execution_count": 16,
   "metadata": {},
   "outputs": [],
   "source": [
    "def checkMAE(actual, pred, n):\n",
    "    count = 0\n",
    "    for i in range(len(actual)):\n",
    "        if abs(actual[i] - pred[i]) > n:\n",
    "            count +=1\n",
    "    \n",
    "    return count\n",
    "\n",
    "mae_values = [10, 20, 50, 75, 100]"
   ]
  },
  {
   "cell_type": "code",
   "execution_count": 17,
   "metadata": {},
   "outputs": [],
   "source": [
    "df = data.copy(deep=True)\n",
    "# df = df[num_cols]\n",
    "df = pd.get_dummies(df)\n",
    "X = df.drop(columns='GIFT_AMOUNT_2018_NEW')\n",
    "y = df['GIFT_AMOUNT_2018_NEW']\n",
    "X_train, X_test, y_train, y_test = train_test_split(X, y, test_size=0.2, random_state=42)\n",
    "\n",
    "#Saving id number for future use\n",
    "train_id_number = X_train['ID_NUMBER']\n",
    "test_id_number = X_test['ID_NUMBER']\n",
    "X_train.drop(columns=['ID_NUMBER'], inplace=True)\n",
    "X_test.drop(columns=['ID_NUMBER'], inplace=True)"
   ]
  },
  {
   "cell_type": "code",
   "execution_count": 18,
   "metadata": {},
   "outputs": [
    {
     "data": {
      "text/plain": [
       "(34338, 8445)"
      ]
     },
     "execution_count": 18,
     "metadata": {},
     "output_type": "execute_result"
    }
   ],
   "source": [
    "df.shape"
   ]
  },
  {
   "cell_type": "code",
   "execution_count": 19,
   "metadata": {},
   "outputs": [
    {
     "name": "stderr",
     "output_type": "stream",
     "text": [
      "WARNING: Logging before flag parsing goes to stderr.\n",
      "W0813 10:44:56.283142 12044 deprecation_wrapper.py:119] From C:\\Users\\Abhishek\\Anaconda3\\lib\\site-packages\\keras\\backend\\tensorflow_backend.py:74: The name tf.get_default_graph is deprecated. Please use tf.compat.v1.get_default_graph instead.\n",
      "\n",
      "W0813 10:44:56.695331 12044 deprecation_wrapper.py:119] From C:\\Users\\Abhishek\\Anaconda3\\lib\\site-packages\\keras\\backend\\tensorflow_backend.py:517: The name tf.placeholder is deprecated. Please use tf.compat.v1.placeholder instead.\n",
      "\n",
      "W0813 10:44:56.761173 12044 deprecation_wrapper.py:119] From C:\\Users\\Abhishek\\Anaconda3\\lib\\site-packages\\keras\\backend\\tensorflow_backend.py:4138: The name tf.random_uniform is deprecated. Please use tf.random.uniform instead.\n",
      "\n",
      "W0813 10:44:56.901787 12044 deprecation_wrapper.py:119] From C:\\Users\\Abhishek\\Anaconda3\\lib\\site-packages\\keras\\optimizers.py:790: The name tf.train.Optimizer is deprecated. Please use tf.compat.v1.train.Optimizer instead.\n",
      "\n"
     ]
    }
   ],
   "source": [
    "#Keras Neural Network\n",
    "model = Sequential()\n",
    "#Input layer\n",
    "model.add(Dense(128, activation='relu', input_shape=[len(X_train.keys())]))\n",
    "#Hidden layers\n",
    "model.add(Dense(128, activation='relu'))\n",
    "model.add(Dense(128, activation='relu'))\n",
    "model.add(Dense(128, activation='relu'))\n",
    "#Output layer\n",
    "model.add(Dense(1, activation='relu'))\n",
    "\n",
    "optimizer = Adadelta(lr=0.001)\n",
    "\n",
    "model.compile(loss='mean_squared_error', optimizer=optimizer, metrics=['mean_squared_error', 'mean_absolute_error'])"
   ]
  },
  {
   "cell_type": "code",
   "execution_count": 20,
   "metadata": {},
   "outputs": [
    {
     "name": "stderr",
     "output_type": "stream",
     "text": [
      "W0813 10:44:58.250748 12044 deprecation_wrapper.py:119] From C:\\Users\\Abhishek\\Anaconda3\\lib\\site-packages\\keras\\backend\\tensorflow_backend.py:986: The name tf.assign_add is deprecated. Please use tf.compat.v1.assign_add instead.\n",
      "\n",
      "W0813 10:44:58.254748 12044 deprecation_wrapper.py:119] From C:\\Users\\Abhishek\\Anaconda3\\lib\\site-packages\\keras\\backend\\tensorflow_backend.py:973: The name tf.assign is deprecated. Please use tf.compat.v1.assign instead.\n",
      "\n"
     ]
    }
   ],
   "source": [
    "epoch = 10\n",
    "history = model.fit(X_train, y_train, epochs=epoch, verbose=0)"
   ]
  },
  {
   "cell_type": "code",
   "execution_count": 21,
   "metadata": {},
   "outputs": [
    {
     "name": "stdout",
     "output_type": "stream",
     "text": [
      "\t\t\t\tKeras Dense Neural Network with all numerical and categorical features\n",
      "\n",
      "Training data accuracy\n",
      "Length of Training Data:  27470\n",
      "MSE:  557262.2243901873\n",
      "MAE:  24.901181662468897\n",
      "Number of predicted values with  absolute error >  10 :  1248 ( 4.54 %)\n",
      "Number of predicted values with  absolute error >  20 :  1207 ( 4.39 %)\n",
      "Number of predicted values with  absolute error >  50 :  797 ( 2.90 %)\n",
      "Number of predicted values with  absolute error >  75 :  748 ( 2.72 %)\n",
      "Number of predicted values with  absolute error >  100 :  503 ( 1.83 %)\n",
      "\n",
      "\n",
      "Test data accuracy\n",
      "Length of Testing Data:  6868\n",
      "MSE:  175615.60866115172\n",
      "MAE:  25.882762101894905\n",
      "Number of predicted values with  absolute error >  10 :  308 ( 4.48 %)\n",
      "Number of predicted values with  absolute error >  20 :  296 ( 4.31 %)\n",
      "Number of predicted values with  absolute error >  50 :  212 ( 3.09 %)\n",
      "Number of predicted values with  absolute error >  75 :  200 ( 2.91 %)\n",
      "Number of predicted values with  absolute error >  100 :  138 ( 2.01 %)\n"
     ]
    }
   ],
   "source": [
    "loss, mse, mae = model.evaluate(X_train, y_train, verbose=0)\n",
    "print('\\t\\t\\t\\tKeras Dense Neural Network with all numerical and categorical features\\n')\n",
    "print('Training data accuracy')\n",
    "print('Length of Training Data: ', len(X_train))\n",
    "print('MSE: ', mse)\n",
    "print('MAE: ', mae)\n",
    "keras_train_pred = model.predict(X_train)\n",
    "keras_train_pred = [pred for sublist in keras_train_pred.tolist() for pred in sublist]\n",
    "for i in mae_values:\n",
    "    print('Number of predicted values with  absolute error > ', i, ': ', checkMAE(y_train.values.tolist(), keras_train_pred, i),\n",
    "     '(', '%.2f' % (checkMAE(y_train.values.tolist(), keras_train_pred, i) / len(y_train) * 100), '%)')\n",
    "print('\\n')\n",
    "loss, mse, mae = model.evaluate(X_test, y_test, verbose=0)\n",
    "print('Test data accuracy')\n",
    "print('Length of Testing Data: ', len(X_test))\n",
    "print('MSE: ', mse)\n",
    "print('MAE: ', mae)\n",
    "keras_test_pred = model.predict(X_test)\n",
    "keras_test_pred = [pred for sublist in keras_test_pred.tolist() for pred in sublist]\n",
    "for i in mae_values:\n",
    "    print('Number of predicted values with  absolute error > ', i, ': ', checkMAE(y_test.values.tolist(), keras_test_pred, i),\n",
    "     '(', '%.2f' % (checkMAE(y_test.values.tolist(), keras_test_pred, i) / len(y_test) * 100), '%)')"
   ]
  },
  {
   "cell_type": "code",
   "execution_count": 22,
   "metadata": {},
   "outputs": [],
   "source": [
    "keras_train_df = pd.DataFrame(data=list(zip(train_id_number, y_train, keras_train_pred)), \n",
    "                              columns=['ID_NUmber', 'GIFT_AMOUNT_2018_NEW', 'PREDICTED_GIFT_AMOUNT_2018'])\n",
    "keras_train_df.to_csv('F:/DS/UBPhilanthropy/34kKerasADTrainPred.csv', index=False)\n",
    "\n",
    "keras_test_df = pd.DataFrame(data = list(zip(test_id_number, y_test, keras_test_pred)), \n",
    "                              columns=['ID_NUmber', 'GIFT_AMOUNT_2018_NEW', 'PREDICTED_GIFT_AMOUNT_2018'])\n",
    "keras_test_df.to_csv('F:/DS/UBPhilanthropy/34kKerasADTestPred.csv', index=False)"
   ]
  },
  {
   "cell_type": "code",
   "execution_count": 23,
   "metadata": {},
   "outputs": [],
   "source": [
    "rf = RandomForestRegressor()"
   ]
  },
  {
   "cell_type": "code",
   "execution_count": 24,
   "metadata": {},
   "outputs": [],
   "source": [
    "# param_grid = {'n_estimators': [50, 100, 150, 200 ,250],\n",
    "#               'max_depth': [3, 4, 5, 6, 7]\n",
    "#              }\n",
    "# grid = GridSearchCV(estimator=rf, param_grid=param_grid, refit=True)\n",
    "# grid.fit(X_train, y_train)\n",
    "# grid.best_params_"
   ]
  },
  {
   "cell_type": "code",
   "execution_count": 25,
   "metadata": {},
   "outputs": [
    {
     "data": {
      "text/plain": [
       "RandomForestRegressor(bootstrap=True, criterion='mse', max_depth=7,\n",
       "           max_features='auto', max_leaf_nodes=None,\n",
       "           min_impurity_decrease=0.0, min_impurity_split=None,\n",
       "           min_samples_leaf=1, min_samples_split=2,\n",
       "           min_weight_fraction_leaf=0.0, n_estimators=100, n_jobs=None,\n",
       "           oob_score=False, random_state=None, verbose=0, warm_start=False)"
      ]
     },
     "execution_count": 25,
     "metadata": {},
     "output_type": "execute_result"
    }
   ],
   "source": [
    "rf.n_estimators = 100\n",
    "rf.max_depth = 7\n",
    "rf.fit(X_train, y_train)"
   ]
  },
  {
   "cell_type": "code",
   "execution_count": 26,
   "metadata": {},
   "outputs": [
    {
     "name": "stdout",
     "output_type": "stream",
     "text": [
      "\t\t\t\tRandom Forest Regressor with all features\n",
      "\n",
      "Training data accuracy\n",
      "Length of Training Data:  27470\n",
      "MSE:  100323.3218013063\n",
      "MAE:  10.618444489301735\n",
      "Number of predicted values with  absolute error >  10 :  1315 ( 4.79 %)\n",
      "Number of predicted values with  absolute error >  20 :  1095 ( 3.99 %)\n",
      "Number of predicted values with  absolute error >  50 :  669 ( 2.44 %)\n",
      "Number of predicted values with  absolute error >  75 :  451 ( 1.64 %)\n",
      "Number of predicted values with  absolute error >  100 :  362 ( 1.32 %)\n",
      "\n",
      "\n",
      "Testing data accuracy\n",
      "Length of Testing Data:  6868\n",
      "MSE:  78766.46635040545\n",
      "MAE:  19.19001264324287\n",
      "Number of predicted values with absolute error >  10 :  330 ( 4.80 %)\n",
      "Number of predicted values with absolute error >  20 :  282 ( 4.11 %)\n",
      "Number of predicted values with absolute error >  50 :  179 ( 2.61 %)\n",
      "Number of predicted values with absolute error >  75 :  128 ( 1.86 %)\n",
      "Number of predicted values with absolute error >  100 :  101 ( 1.47 %)\n"
     ]
    }
   ],
   "source": [
    "rf_train_pred = rf.predict(X_train)\n",
    "print('\\t\\t\\t\\tRandom Forest Regressor with all features\\n')\n",
    "print('Training data accuracy')\n",
    "print('Length of Training Data: ', len(X_train))\n",
    "print('MSE: ', mean_squared_error(y_train, rf_train_pred))\n",
    "print('MAE: ', mean_absolute_error(y_train, rf_train_pred))\n",
    "for i in mae_values:\n",
    "    print('Number of predicted values with  absolute error > ', i, ': ', checkMAE(y_train.values.tolist(), rf_train_pred.tolist(), i),\n",
    "     '(', '%.2f' % (checkMAE(y_train.values.tolist(), rf_train_pred.tolist(), i) / len(y_train) * 100), '%)')\n",
    "#print('r^2: ', r2_score(y_train, rf_train_pred))\n",
    "\n",
    "print('\\n')\n",
    "rf_test_pred = rf.predict(X_test)\n",
    "print('Testing data accuracy')\n",
    "print('Length of Testing Data: ', len(X_test))\n",
    "print('MSE: ', mean_squared_error(y_test, rf_test_pred))\n",
    "print('MAE: ', mean_absolute_error(y_test, rf_test_pred))\n",
    "for i in mae_values:\n",
    "    print('Number of predicted values with absolute error > ', i, ': ', checkMAE(y_test.values.tolist(), rf_test_pred.tolist(), i),\n",
    "     '(', '%.2f' % (checkMAE(y_test.values.tolist(), rf_test_pred.tolist(), i) / len(y_test) * 100), '%)')\n",
    "#print('r^2: ', r2_score(y_test, rf_test_pred))"
   ]
  },
  {
   "cell_type": "code",
   "execution_count": 27,
   "metadata": {},
   "outputs": [
    {
     "data": {
      "text/plain": [
       "Index(['ZIPCODE_NEW', 'LIFETIME_RECOGNITION_AMT_NEW', 'GIFT_AMOUNT_2017_NEW',\n",
       "       'GIFT_AMOUNT_2016_NEW', 'GIFT_AMOUNT_2015_NEW', 'GIFT_AMOUNT_2014_NEW',\n",
       "       'GIFT_AMOUNT_2013_NEW', 'GIFT_AMOUNT_2012_NEW', 'GIFT_AMOUNT_2011_NEW',\n",
       "       'GIFT_AMOUNT_2010_NEW',\n",
       "       ...\n",
       "       'DEGREE_YEAR4_2010', 'DEGREE_YEAR4_2011', 'DEGREE_YEAR4_2012',\n",
       "       'DEGREE_YEAR4_2013', 'DEGREE_YEAR4_ ', 'DONOR_CATEGORY_1st Time    ',\n",
       "       'DONOR_CATEGORY_Lapsed      ', 'DONOR_CATEGORY_Loyal       ',\n",
       "       'DONOR_CATEGORY_Non Donor   ', 'DONOR_CATEGORY_Reacquired  '],\n",
       "      dtype='object', length=8443)"
      ]
     },
     "execution_count": 27,
     "metadata": {},
     "output_type": "execute_result"
    }
   ],
   "source": [
    "X_train.columns"
   ]
  },
  {
   "cell_type": "code",
   "execution_count": 28,
   "metadata": {},
   "outputs": [
    {
     "data": {
      "text/plain": [
       "array([0.00634506, 0.24145561, 0.0434477 , ..., 0.01945798, 0.        ,\n",
       "       0.03173017])"
      ]
     },
     "execution_count": 28,
     "metadata": {},
     "output_type": "execute_result"
    }
   ],
   "source": [
    "rf.feature_importances_"
   ]
  },
  {
   "cell_type": "code",
   "execution_count": 29,
   "metadata": {},
   "outputs": [
    {
     "data": {
      "text/html": [
       "<div>\n",
       "<style scoped>\n",
       "    .dataframe tbody tr th:only-of-type {\n",
       "        vertical-align: middle;\n",
       "    }\n",
       "\n",
       "    .dataframe tbody tr th {\n",
       "        vertical-align: top;\n",
       "    }\n",
       "\n",
       "    .dataframe thead th {\n",
       "        text-align: right;\n",
       "    }\n",
       "</style>\n",
       "<table border=\"1\" class=\"dataframe\">\n",
       "  <thead>\n",
       "    <tr style=\"text-align: right;\">\n",
       "      <th></th>\n",
       "      <th>Feature</th>\n",
       "      <th>Importance</th>\n",
       "    </tr>\n",
       "  </thead>\n",
       "  <tbody>\n",
       "    <tr>\n",
       "      <th>14</th>\n",
       "      <td>NO_EVENTS_2017_NEW</td>\n",
       "      <td>0.023930</td>\n",
       "    </tr>\n",
       "    <tr>\n",
       "      <th>17</th>\n",
       "      <td>NO_EVENTS_2014_NEW</td>\n",
       "      <td>0.024464</td>\n",
       "    </tr>\n",
       "    <tr>\n",
       "      <th>8442</th>\n",
       "      <td>DONOR_CATEGORY_Reacquired</td>\n",
       "      <td>0.031730</td>\n",
       "    </tr>\n",
       "    <tr>\n",
       "      <th>3</th>\n",
       "      <td>GIFT_AMOUNT_2016_NEW</td>\n",
       "      <td>0.033148</td>\n",
       "    </tr>\n",
       "    <tr>\n",
       "      <th>2</th>\n",
       "      <td>GIFT_AMOUNT_2017_NEW</td>\n",
       "      <td>0.043448</td>\n",
       "    </tr>\n",
       "    <tr>\n",
       "      <th>2152</th>\n",
       "      <td>ZIPCODE_14424</td>\n",
       "      <td>0.077759</td>\n",
       "    </tr>\n",
       "    <tr>\n",
       "      <th>8438</th>\n",
       "      <td>DONOR_CATEGORY_1st Time</td>\n",
       "      <td>0.087092</td>\n",
       "    </tr>\n",
       "    <tr>\n",
       "      <th>4</th>\n",
       "      <td>GIFT_AMOUNT_2015_NEW</td>\n",
       "      <td>0.092424</td>\n",
       "    </tr>\n",
       "    <tr>\n",
       "      <th>8151</th>\n",
       "      <td>DEGREE_YEAR1_1979</td>\n",
       "      <td>0.109371</td>\n",
       "    </tr>\n",
       "    <tr>\n",
       "      <th>1</th>\n",
       "      <td>LIFETIME_RECOGNITION_AMT_NEW</td>\n",
       "      <td>0.241456</td>\n",
       "    </tr>\n",
       "  </tbody>\n",
       "</table>\n",
       "</div>"
      ],
      "text/plain": [
       "                           Feature  Importance\n",
       "14              NO_EVENTS_2017_NEW    0.023930\n",
       "17              NO_EVENTS_2014_NEW    0.024464\n",
       "8442   DONOR_CATEGORY_Reacquired      0.031730\n",
       "3             GIFT_AMOUNT_2016_NEW    0.033148\n",
       "2             GIFT_AMOUNT_2017_NEW    0.043448\n",
       "2152                 ZIPCODE_14424    0.077759\n",
       "8438   DONOR_CATEGORY_1st Time        0.087092\n",
       "4             GIFT_AMOUNT_2015_NEW    0.092424\n",
       "8151             DEGREE_YEAR1_1979    0.109371\n",
       "1     LIFETIME_RECOGNITION_AMT_NEW    0.241456"
      ]
     },
     "execution_count": 29,
     "metadata": {},
     "output_type": "execute_result"
    }
   ],
   "source": [
    "pd.DataFrame(data=list(zip(X_train.columns.tolist(), rf.feature_importances_.tolist())),\n",
    "             columns=['Feature', 'Importance']\n",
    "            ).sort_values(by='Importance').tail(10)"
   ]
  },
  {
   "cell_type": "code",
   "execution_count": null,
   "metadata": {},
   "outputs": [],
   "source": []
  },
  {
   "cell_type": "code",
   "execution_count": 30,
   "metadata": {},
   "outputs": [],
   "source": [
    "rf_train_df = pd.DataFrame(data=list(zip(train_id_number, y_train, rf_train_pred)), \n",
    "                              columns=['ID_NUmber', 'GIFT_AMOUNT_2018_NEW', 'PREDICTED_GIFT_AMOUNT_2018'])\n",
    "rf_train_df.to_csv('F:/DS/UBPhilanthropy/34kRFTrainPred.csv', index=False)\n",
    "\n",
    "rf_test_df = pd.DataFrame(data = list(zip(test_id_number, y_test, rf_test_pred)), \n",
    "                              columns=['ID_NUmber', 'GIFT_AMOUNT_2018_NEW', 'PREDICTED_GIFT_AMOUNT_2018'])\n",
    "rf_test_df.to_csv('F:/DS/UBPhilanthropy/34kRFTestPred.csv', index=False)"
   ]
  },
  {
   "cell_type": "code",
   "execution_count": 31,
   "metadata": {},
   "outputs": [],
   "source": [
    "sel_cols = ['NO_EVENTS_2017_NEW','NO_EVENTS_2016_NEW','NO_EVENTS_2015_NEW','NO_EVENTS_2014_NEW','GIFT_AMOUNT_2018_NEW',\n",
    "            'GIFT_AMOUNT_2017_NEW','GIFT_AMOUNT_2016_NEW','GIFT_AMOUNT_2015_NEW','LIFETIME_RECOGNITION_AMT_NEW',\n",
    "            'ZIPCODE_NEW']\n",
    "sel_cols.append('ID_NUMBER')"
   ]
  },
  {
   "cell_type": "code",
   "execution_count": 32,
   "metadata": {},
   "outputs": [],
   "source": [
    "df = data.copy(deep=True)\n",
    "df = df[sel_cols]\n",
    "df = pd.get_dummies(df)\n",
    "X = df.drop(columns='GIFT_AMOUNT_2018_NEW')\n",
    "y = df['GIFT_AMOUNT_2018_NEW']\n",
    "X_train, X_test, y_train, y_test = train_test_split(X, y, test_size=0.2, random_state=42)\n",
    "\n",
    "#Saving id number for future use\n",
    "train_id_number = X_train['ID_NUMBER']\n",
    "test_id_number = X_test['ID_NUMBER']\n",
    "X_train.drop(columns=['ID_NUMBER'], inplace=True)\n",
    "X_test.drop(columns=['ID_NUMBER'], inplace=True)"
   ]
  },
  {
   "cell_type": "code",
   "execution_count": 33,
   "metadata": {},
   "outputs": [
    {
     "data": {
      "text/plain": [
       "Index(['NO_EVENTS_2017_NEW', 'NO_EVENTS_2016_NEW', 'NO_EVENTS_2015_NEW',\n",
       "       'NO_EVENTS_2014_NEW', 'GIFT_AMOUNT_2017_NEW', 'GIFT_AMOUNT_2016_NEW',\n",
       "       'GIFT_AMOUNT_2015_NEW', 'LIFETIME_RECOGNITION_AMT_NEW', 'ZIPCODE_NEW'],\n",
       "      dtype='object')"
      ]
     },
     "execution_count": 33,
     "metadata": {},
     "output_type": "execute_result"
    }
   ],
   "source": [
    "X_train.keys()"
   ]
  },
  {
   "cell_type": "code",
   "execution_count": 34,
   "metadata": {},
   "outputs": [],
   "source": [
    "#Keras Neural Network\n",
    "model = Sequential()\n",
    "#Input layer\n",
    "model.add(Dense(128, activation='relu', input_shape=[len(X_train.keys())]))\n",
    "#Hidden layers\n",
    "model.add(Dense(128, activation='relu'))\n",
    "model.add(Dense(128, activation='relu'))\n",
    "model.add(Dense(128, activation='relu'))\n",
    "\n",
    "#Output layers\n",
    "model.add(Dense(1, activation='relu'))\n",
    "\n",
    "optimizer = Adadelta(lr=0.001)\n",
    "\n",
    "model.compile(loss='mean_squared_error', optimizer=optimizer, metrics=['mean_squared_error', 'mean_absolute_error'])"
   ]
  },
  {
   "cell_type": "code",
   "execution_count": 35,
   "metadata": {},
   "outputs": [],
   "source": [
    "epoch = 10\n",
    "history = model.fit(X_train, y_train, epochs=epoch, verbose=0)"
   ]
  },
  {
   "cell_type": "code",
   "execution_count": 36,
   "metadata": {},
   "outputs": [
    {
     "name": "stdout",
     "output_type": "stream",
     "text": [
      "\t\t\t\tKeras Dense Neural Network with selected numerical features\n",
      "\n",
      "Training data accuracy\n",
      "Length of Training Data:  27470\n",
      "MSE:  557262.2243901873\n",
      "MAE:  24.901181662468897\n",
      "Number of predicted values with  absolute error >  10 :  1248 ( 4.54 %)\n",
      "Number of predicted values with  absolute error >  20 :  1207 ( 4.39 %)\n",
      "Number of predicted values with  absolute error >  50 :  797 ( 2.90 %)\n",
      "Number of predicted values with  absolute error >  75 :  748 ( 2.72 %)\n",
      "Number of predicted values with  absolute error >  100 :  503 ( 1.83 %)\n",
      "\n",
      "\n",
      "Test data accuracy\n",
      "Length of Testing Data:  6868\n",
      "MSE:  175615.60866115172\n",
      "MAE:  25.882762101894905\n",
      "Number of predicted values with  absolute error >  10 :  308 ( 4.48 %)\n",
      "Number of predicted values with  absolute error >  20 :  296 ( 4.31 %)\n",
      "Number of predicted values with  absolute error >  50 :  212 ( 3.09 %)\n",
      "Number of predicted values with  absolute error >  75 :  200 ( 2.91 %)\n",
      "Number of predicted values with  absolute error >  100 :  138 ( 2.01 %)\n"
     ]
    }
   ],
   "source": [
    "loss, mse, mae = model.evaluate(X_train, y_train, verbose=0)\n",
    "print('\\t\\t\\t\\tKeras Dense Neural Network with selected numerical features\\n')\n",
    "print('Training data accuracy')\n",
    "print('Length of Training Data: ', len(X_train))\n",
    "print('MSE: ', mse)\n",
    "print('MAE: ', mae)\n",
    "keras_train_pred = model.predict(X_train)\n",
    "keras_train_pred = [pred for sublist in keras_train_pred.tolist() for pred in sublist]\n",
    "for i in mae_values:\n",
    "    print('Number of predicted values with  absolute error > ', i, ': ', checkMAE(y_train.values.tolist(), keras_train_pred, i),\n",
    "     '(', '%.2f' % (checkMAE(y_train.values.tolist(), keras_train_pred, i) / len(y_train) * 100), '%)')\n",
    "print('\\n')\n",
    "loss, mse, mae = model.evaluate(X_test, y_test, verbose=0)\n",
    "print('Test data accuracy')\n",
    "print('Length of Testing Data: ', len(X_test))\n",
    "print('MSE: ', mse)\n",
    "print('MAE: ', mae)\n",
    "keras_test_pred = model.predict(X_test)\n",
    "keras_test_pred = [pred for sublist in keras_test_pred.tolist() for pred in sublist]\n",
    "for i in mae_values:\n",
    "    print('Number of predicted values with  absolute error > ', i, ': ', checkMAE(y_test.values.tolist(), keras_test_pred, i),\n",
    "     '(', '%.2f' % (checkMAE(y_test.values.tolist(), keras_test_pred, i) / len(y_test) * 100), '%)')"
   ]
  },
  {
   "cell_type": "code",
   "execution_count": 37,
   "metadata": {},
   "outputs": [
    {
     "data": {
      "text/plain": [
       "RandomForestRegressor(bootstrap=True, criterion='mse', max_depth=None,\n",
       "           max_features='auto', max_leaf_nodes=None,\n",
       "           min_impurity_decrease=0.0, min_impurity_split=None,\n",
       "           min_samples_leaf=1, min_samples_split=2,\n",
       "           min_weight_fraction_leaf=0.0, n_estimators=5, n_jobs=None,\n",
       "           oob_score=False, random_state=None, verbose=0, warm_start=False)"
      ]
     },
     "execution_count": 37,
     "metadata": {},
     "output_type": "execute_result"
    }
   ],
   "source": [
    "rf = RandomForestRegressor()\n",
    "rf.n_estimators = 5\n",
    "rf.fit(X_train, y_train)"
   ]
  },
  {
   "cell_type": "code",
   "execution_count": 38,
   "metadata": {},
   "outputs": [
    {
     "name": "stdout",
     "output_type": "stream",
     "text": [
      "\t\t\t\tRandom Forest Regressor with selected numerical features\n",
      "\n",
      "Training data accuracy\n",
      "Length of Training Data:  27470\n",
      "MSE:  91120.12568260545\n",
      "MAE:  11.486534420318065\n",
      "Number of predicted values with  absolute error >  10 :  1522 ( 5.54 %)\n",
      "Number of predicted values with  absolute error >  20 :  1098 ( 4.00 %)\n",
      "Number of predicted values with  absolute error >  50 :  585 ( 2.13 %)\n",
      "Number of predicted values with  absolute error >  75 :  452 ( 1.65 %)\n",
      "Number of predicted values with  absolute error >  100 :  323 ( 1.18 %)\n",
      "\n",
      "\n",
      "Testing data accuracy\n",
      "Length of Testing Data:  6868\n",
      "MSE:  587995.8895637055\n",
      "MAE:  39.052544698473376\n",
      "Number of predicted values with absolute error >  10 :  540 ( 7.86 %)\n",
      "Number of predicted values with absolute error >  20 :  446 ( 6.49 %)\n",
      "Number of predicted values with absolute error >  50 :  295 ( 4.30 %)\n",
      "Number of predicted values with absolute error >  75 :  236 ( 3.44 %)\n",
      "Number of predicted values with absolute error >  100 :  177 ( 2.58 %)\n"
     ]
    }
   ],
   "source": [
    "rf_train_pred = rf.predict(X_train)\n",
    "print('\\t\\t\\t\\tRandom Forest Regressor with selected numerical features\\n')\n",
    "print('Training data accuracy')\n",
    "print('Length of Training Data: ', len(X_train))\n",
    "print('MSE: ', mean_squared_error(y_train, rf_train_pred))\n",
    "print('MAE: ', mean_absolute_error(y_train, rf_train_pred))\n",
    "for i in mae_values:\n",
    "    print('Number of predicted values with  absolute error > ', i, ': ', checkMAE(y_train.values.tolist(), rf_train_pred.tolist(), i),\n",
    "     '(', '%.2f' % (checkMAE(y_train.values.tolist(), rf_train_pred.tolist(), i) / len(y_train) * 100), '%)')\n",
    "#print('r^2: ', r2_score(y_train, rf_train_pred))\n",
    "\n",
    "print('\\n')\n",
    "rf_test_pred = rf.predict(X_test)\n",
    "print('Testing data accuracy')\n",
    "print('Length of Testing Data: ', len(X_test))\n",
    "print('MSE: ', mean_squared_error(y_test, rf_test_pred))\n",
    "print('MAE: ', mean_absolute_error(y_test, rf_test_pred))\n",
    "for i in mae_values:\n",
    "    print('Number of predicted values with absolute error > ', i, ': ', checkMAE(y_test.values.tolist(), rf_test_pred.tolist(), i),\n",
    "     '(', '%.2f' % (checkMAE(y_test.values.tolist(), rf_test_pred.tolist(), i) / len(y_test) * 100), '%)')\n",
    "#print('r^2: ', r2_score(y_test, rf_test_pred))"
   ]
  },
  {
   "cell_type": "code",
   "execution_count": 39,
   "metadata": {},
   "outputs": [
    {
     "data": {
      "text/plain": [
       "array(['Lapsed      ', 'Reacquired  ', 'Non Donor   ', 'Loyal       ',\n",
       "       '1st Time    '], dtype=object)"
      ]
     },
     "execution_count": 39,
     "metadata": {},
     "output_type": "execute_result"
    }
   ],
   "source": [
    "data['DONOR_CATEGORY'].unique()"
   ]
  },
  {
   "cell_type": "code",
   "execution_count": 40,
   "metadata": {},
   "outputs": [],
   "source": [
    "data['DONOR_CATEGORY'] = data['DONOR_CATEGORY'].apply(lambda x: 1 if x == 'Loyal       ' else 0)"
   ]
  },
  {
   "cell_type": "code",
   "execution_count": 41,
   "metadata": {},
   "outputs": [],
   "source": [
    "data['GIFT_AMOUNT_2018_NEW'] = data['GIFT_AMOUNT_2018_NEW'].apply(lambda x: 1 if x>0 else 0)"
   ]
  },
  {
   "cell_type": "code",
   "execution_count": 42,
   "metadata": {},
   "outputs": [],
   "source": [
    "from sklearn.tree import DecisionTreeClassifier\n",
    "from sklearn.linear_model import LogisticRegression\n",
    "from sklearn.metrics import classification_report, accuracy_score, confusion_matrix"
   ]
  },
  {
   "cell_type": "code",
   "execution_count": 43,
   "metadata": {},
   "outputs": [],
   "source": [
    "dtc = DecisionTreeClassifier()\n",
    "log = LogisticRegression()"
   ]
  },
  {
   "cell_type": "code",
   "execution_count": 44,
   "metadata": {},
   "outputs": [],
   "source": [
    "df = data.copy(deep=True)\n",
    "# df = df[num_cols]\n",
    "df = pd.get_dummies(df)\n",
    "X = df.drop(columns=['GIFT_AMOUNT_2018_NEW'])\n",
    "y = df['GIFT_AMOUNT_2018_NEW']\n",
    "X_train, X_test, y_train, y_test = train_test_split(X, y, test_size=0.2, random_state=42)\n",
    "\n",
    "#Saving id number for future use\n",
    "train_id_number = X_train['ID_NUMBER']\n",
    "test_id_number = X_test['ID_NUMBER']\n",
    "X_train.drop(columns=['ID_NUMBER'], inplace=True)\n",
    "X_test.drop(columns=['ID_NUMBER'], inplace=True)"
   ]
  },
  {
   "cell_type": "code",
   "execution_count": 45,
   "metadata": {},
   "outputs": [
    {
     "data": {
      "text/plain": [
       "LogisticRegression(C=1.0, class_weight=None, dual=False, fit_intercept=True,\n",
       "          intercept_scaling=1, max_iter=100, multi_class='warn',\n",
       "          n_jobs=None, penalty='l2', random_state=None, solver='warn',\n",
       "          tol=0.0001, verbose=0, warm_start=False)"
      ]
     },
     "execution_count": 45,
     "metadata": {},
     "output_type": "execute_result"
    }
   ],
   "source": [
    "log.fit(X_train, y_train)"
   ]
  },
  {
   "cell_type": "code",
   "execution_count": 46,
   "metadata": {},
   "outputs": [
    {
     "name": "stdout",
     "output_type": "stream",
     "text": [
      "0.9549690571532581\n",
      "[[26147    33]\n",
      " [ 1204    86]]\n",
      "\n",
      "\n",
      "0.9551543389633081\n",
      "[[6539    8]\n",
      " [ 300   21]]\n"
     ]
    }
   ],
   "source": [
    "pred = log.predict(X_train)\n",
    "test_pred = log.predict(X_test)\n",
    "print(accuracy_score(y_train, pred))\n",
    "print(confusion_matrix(y_train, pred))\n",
    "print('\\n')\n",
    "print(accuracy_score(y_test, test_pred))\n",
    "print(confusion_matrix(y_test, test_pred))\n"
   ]
  },
  {
   "cell_type": "code",
   "execution_count": 47,
   "metadata": {},
   "outputs": [
    {
     "data": {
      "text/plain": [
       "DecisionTreeClassifier(class_weight=None, criterion='gini', max_depth=None,\n",
       "            max_features=None, max_leaf_nodes=None,\n",
       "            min_impurity_decrease=0.0, min_impurity_split=None,\n",
       "            min_samples_leaf=1, min_samples_split=2,\n",
       "            min_weight_fraction_leaf=0.0, presort=False, random_state=None,\n",
       "            splitter='best')"
      ]
     },
     "execution_count": 47,
     "metadata": {},
     "output_type": "execute_result"
    }
   ],
   "source": [
    "dtc.fit(X_train, y_train)"
   ]
  },
  {
   "cell_type": "code",
   "execution_count": 48,
   "metadata": {},
   "outputs": [
    {
     "name": "stdout",
     "output_type": "stream",
     "text": [
      "1.0\n",
      "[[26180     0]\n",
      " [    0  1290]]\n",
      "\n",
      "\n",
      "0.9876237623762376\n",
      "[[6508   39]\n",
      " [  46  275]]\n"
     ]
    }
   ],
   "source": [
    "pred = dtc.predict(X_train)\n",
    "test_pred = dtc.predict(X_test)\n",
    "\n",
    "\n",
    "print(accuracy_score(y_train, pred))\n",
    "print(confusion_matrix(y_train, pred))\n",
    "print('\\n')\n",
    "print(accuracy_score(y_test, test_pred))\n",
    "print(confusion_matrix(y_test, test_pred))"
   ]
  },
  {
   "cell_type": "code",
   "execution_count": 49,
   "metadata": {},
   "outputs": [
    {
     "data": {
      "text/plain": [
       "array([0, 0, 0, ..., 0, 0, 0], dtype=int64)"
      ]
     },
     "execution_count": 49,
     "metadata": {},
     "output_type": "execute_result"
    }
   ],
   "source": [
    "test_pred"
   ]
  },
  {
   "cell_type": "code",
   "execution_count": null,
   "metadata": {},
   "outputs": [],
   "source": []
  }
 ],
 "metadata": {
  "kernelspec": {
   "display_name": "Python 3",
   "language": "python",
   "name": "python3"
  },
  "language_info": {
   "codemirror_mode": {
    "name": "ipython",
    "version": 3
   },
   "file_extension": ".py",
   "mimetype": "text/x-python",
   "name": "python",
   "nbconvert_exporter": "python",
   "pygments_lexer": "ipython3",
   "version": "3.7.3"
  }
 },
 "nbformat": 4,
 "nbformat_minor": 2
}
