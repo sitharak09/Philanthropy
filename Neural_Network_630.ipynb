{
 "cells": [
  {
   "cell_type": "code",
   "execution_count": 12,
   "metadata": {},
   "outputs": [],
   "source": [
    "import pandas as pd\n",
    "GIFT_AMOUNT = pd.read_excel(r'C:\\Users\\sithara\\Desktop\\Philanthrophy\\File\\Management_final_1.xlsx')\n",
    "df = pd.DataFrame(GIFT_AMOUNT,columns=['GIFT_AMOUNT_2018_NEW','GIFT_AMOUNT_2017_NEW','GIFT_AMOUNT_2016_NEW','GIFT_AMOUNT_2015_NEW','LIFETIME_RECOGNITION_AMT_NEW','ZIPCODE_NEW'])"
   ]
  },
  {
   "cell_type": "code",
   "execution_count": 14,
   "metadata": {},
   "outputs": [
    {
     "name": "stdout",
     "output_type": "stream",
     "text": [
      "   GIFT_AMOUNT_2018_NEW  GIFT_AMOUNT_2017_NEW  GIFT_AMOUNT_2016_NEW  \\\n",
      "0                   0.0                 300.0                   0.0   \n",
      "1                  25.0                   0.0                   0.0   \n",
      "2                   0.0                   0.0                   0.0   \n",
      "3                   0.0                   0.0                   0.0   \n",
      "4                   0.0                   0.0                   0.0   \n",
      "\n",
      "   GIFT_AMOUNT_2015_NEW  LIFETIME_RECOGNITION_AMT_NEW  ZIPCODE_NEW_10031  \\\n",
      "0                 100.0                       2470.00                  1   \n",
      "1                   0.0                        522.00                  0   \n",
      "2                   0.0                         19.92                  0   \n",
      "3                   0.0                        155.00                  1   \n",
      "4                   0.0                         30.00                  0   \n",
      "\n",
      "   ZIPCODE_NEW_10105  ZIPCODE_NEW_11111  ZIPCODE_NEW_12009  \n",
      "0                  0                  0                  0  \n",
      "1                  0                  1                  0  \n",
      "2                  0                  1                  0  \n",
      "3                  0                  0                  0  \n",
      "4                  0                  1                  0  \n"
     ]
    }
   ],
   "source": [
    "#create dummy for category variables\n",
    "ga = df.copy()\n",
    "ga = pd.get_dummies (ga,columns=['ZIPCODE_NEW'])\n",
    "print(ga.head())"
   ]
  },
  {
   "cell_type": "code",
   "execution_count": 107,
   "metadata": {},
   "outputs": [],
   "source": [
    "predictor_cols = list(ga.columns.values[1:])\n",
    "x = ga[predictor_cols]\n",
    "y = ga[['GIFT_AMOUNT_2018_NEW']]"
   ]
  },
  {
   "cell_type": "code",
   "execution_count": 134,
   "metadata": {},
   "outputs": [],
   "source": [
    "from sklearn.neural_network import MLPRegressor\n",
    "#x = ga[['GIFT_AMOUNT_2017_NEW','GIFT_AMOUNT_2016_NEW','GIFT_AMOUNT_2015_NEW','LIFETIME_RECOGNITION_AMT_NEW','ZIPCODE_NEW']]\n",
    "reg = MLPRegressor(hidden_layer_sizes=(10,),  activation='logistic', solver='adam',    alpha=0.001,batch_size='auto',\n",
    "               learning_rate='invscaling', learning_rate_init=0.01, power_t=0.5, max_iter=1000, shuffle=True,\n",
    "               random_state=None, tol=0.0001, verbose=False, warm_start=False, momentum=0.9,\n",
    "               nesterovs_momentum=True, early_stopping=False, validation_fraction=0.1, beta_1=0.9, beta_2=0.999,\n",
    "               epsilon=1e-08)"
   ]
  },
  {
   "cell_type": "code",
   "execution_count": 135,
   "metadata": {},
   "outputs": [
    {
     "data": {
      "text/plain": [
       "0.005964475926710899"
      ]
     },
     "execution_count": 135,
     "metadata": {},
     "output_type": "execute_result"
    }
   ],
   "source": [
    "import numpy as np\n",
    "import matplotlib.pyplot as plt\n",
    "Y = np.ravel(y)\n",
    "Y=Y.astype('int')\n",
    "reg = reg.fit(x, Y)\n",
    "reg.score(x, Y)"
   ]
  },
  {
   "cell_type": "code",
   "execution_count": 136,
   "metadata": {},
   "outputs": [
    {
     "name": "stdout",
     "output_type": "stream",
     "text": [
      "Mean Square Error: 477432.8651291187\n"
     ]
    }
   ],
   "source": [
    "from sklearn import metrics as ms\n",
    "predictions = reg.predict(x)\n",
    "print (\"Mean Square Error:\", ms.mean_squared_error(Y,predictions))"
   ]
  },
  {
   "cell_type": "code",
   "execution_count": 137,
   "metadata": {},
   "outputs": [
    {
     "name": "stdout",
     "output_type": "stream",
     "text": [
      "[ 0 25  0 ...  0  0  0] [95.36560355 37.83480279  9.83836695 ...  9.83836695  9.83836695\n",
      "  9.83836695]\n"
     ]
    }
   ],
   "source": [
    "print(Y,predictions)"
   ]
  },
  {
   "cell_type": "code",
   "execution_count": 138,
   "metadata": {},
   "outputs": [
    {
     "name": "stdout",
     "output_type": "stream",
     "text": [
      "<bound method NDFrame.head of        Target  Predicted_Value\n",
      "0           0        95.365604\n",
      "1          25        37.834803\n",
      "2           0         9.838367\n",
      "3           0        37.802427\n",
      "4           0         9.838367\n",
      "5           0         9.838367\n",
      "6           0         9.838367\n",
      "7           0        86.428704\n",
      "8           0         9.838367\n",
      "9           0        34.741466\n",
      "10          0         9.838367\n",
      "11          0         9.838367\n",
      "12          0        92.274845\n",
      "13          0         9.838367\n",
      "14         25        64.011363\n",
      "15          0         9.838367\n",
      "16          0        37.834408\n",
      "17          0        64.011363\n",
      "18          0        64.011363\n",
      "19          0        37.821002\n",
      "20          0        95.365604\n",
      "21          0        64.011363\n",
      "22         25         9.838400\n",
      "23          0        64.011363\n",
      "24          0         9.838387\n",
      "25          0        64.011329\n",
      "26          0         9.838367\n",
      "27          0        57.933508\n",
      "28          0        61.147392\n",
      "29          0        64.006684\n",
      "...       ...              ...\n",
      "34308       0         9.838367\n",
      "34309       0         9.838367\n",
      "34310       0         9.838367\n",
      "34311       0         9.838367\n",
      "34312       0         9.838367\n",
      "34313       0         9.838367\n",
      "34314       0         9.838367\n",
      "34315       0         9.838367\n",
      "34316       0         9.838367\n",
      "34317       0         9.838367\n",
      "34318       0         9.838367\n",
      "34319       0         9.838367\n",
      "34320       0         9.838367\n",
      "34321       0         9.838367\n",
      "34322       0         9.838367\n",
      "34323       0         9.838367\n",
      "34324       0         9.838367\n",
      "34325       0         9.838367\n",
      "34326       0         9.838367\n",
      "34327       0         9.838367\n",
      "34328       0         9.838367\n",
      "34329       0         9.838367\n",
      "34330       0         9.838367\n",
      "34331       0         9.838367\n",
      "34332       0         9.838367\n",
      "34333       0         9.838367\n",
      "34334       0         9.838367\n",
      "34335       0         9.838367\n",
      "34336       0         9.838367\n",
      "34337       0         9.838367\n",
      "\n",
      "[34338 rows x 2 columns]>\n"
     ]
    }
   ],
   "source": [
    "import pandas as pd\n",
    "my_df = pd.DataFrame()\n",
    "my_df[\"Target\"]=Y\n",
    "my_df[\"Predicted_Value\"] = predictions\n",
    "my_df.to_csv('out12.csv', index=False, header=False)\n",
    "print (my_df.head)"
   ]
  },
  {
   "cell_type": "code",
   "execution_count": null,
   "metadata": {},
   "outputs": [],
   "source": [
    "del my_df"
   ]
  }
 ],
 "metadata": {
  "kernelspec": {
   "display_name": "Python 3",
   "language": "python",
   "name": "python3"
  },
  "language_info": {
   "codemirror_mode": {
    "name": "ipython",
    "version": 3
   },
   "file_extension": ".py",
   "mimetype": "text/x-python",
   "name": "python",
   "nbconvert_exporter": "python",
   "pygments_lexer": "ipython3",
   "version": "3.7.1"
  }
 },
 "nbformat": 4,
 "nbformat_minor": 2
}
